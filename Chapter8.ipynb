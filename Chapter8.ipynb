{
 "metadata": {
  "orig_nbformat": 2,
  "kernelspec": {
   "name": "tf",
   "display_name": "TF",
   "language": "python"
  },
  "metadata": {
   "interpreter": {
    "hash": "2f464fc6b098c045d3fa2a81389409b13ae3524050d1c22ae6b1fc19c12f7a78"
   }
  }
 },
 "nbformat": 4,
 "nbformat_minor": 2,
 "cells": [
  {
   "cell_type": "code",
   "execution_count": null,
   "metadata": {},
   "outputs": [],
   "source": [
    "#参数可以是 列表 字典等. 基本传参\n",
    "def greet(message='hello'):\n",
    "    print(message)\n",
    "    \n",
    "\n",
    "greet()\n",
    "mess='ok'\n",
    "greet(mess) #不指定关键字时  有默认值的参数放后面 顺序对应\n",
    "print(mess)\n",
    "greet(message='world') #指定关键字时  参数顺序无关"
   ]
  },
  {
   "source": [
    "# 对列表的修改\n",
    "import random\n",
    "def modifyList(List=[6,5,4,3]):\n",
    "    List[2]=random.randint(1,10)\n",
    "def modifyDir(directory):\n",
    "    directory['666']=666\n",
    "\n",
    "List=[6,5,4,3]\n",
    "modifyList(List) #影响\n",
    "print(List)\n",
    "modifyList(List[:])#不影响\n",
    "print(List)\n",
    "directory={'222':'3333'}\n",
    "modifyDir(directory) #影响\n",
    "print(directory)"
   ],
   "cell_type": "code",
   "metadata": {},
   "execution_count": null,
   "outputs": []
  },
  {
   "cell_type": "code",
   "execution_count": null,
   "metadata": {},
   "outputs": [],
   "source": [
    "#传递任意数量实参  无论几个参数都会放在元组里\n",
    "def arbitraryPara(size,*number):\n",
    "    print(number)\n",
    "    for item in number:\n",
    "        print(item,end=\" \")\n",
    "\n",
    "#传递任意数量的关键字实参\n",
    "def arbitraryKeyPara(size,**number): #可以用这种方法 传递字典而不修改字典的值\n",
    "    print(number)\n",
    "    for item in number.keys():\n",
    "        print(f\"{item} : {number[item]}\")\n",
    "\n",
    "arbitraryPara(5,2,1,2,2,3,3)\n",
    "arbitraryKeyPara(3,name='222',age='666')\n",
    "para = dict(name = 'Tom', age = 20)\n",
    "arbitraryKeyPara(4,**para)"
   ]
  },
  {
   "cell_type": "code",
   "execution_count": null,
   "metadata": {},
   "outputs": [],
   "source": [
    "import Chapter8Module\n",
    "#import *导入所有函数\n",
    "from Chapter8Module import functionThree as fThree\n",
    "from Chapter8Module import functionTwo\n",
    "\n",
    "Chapter8Module.functionOne()\n",
    "functionTwo()\n",
    "fThree()\n",
    "#使用ipynb内部函数直接调用\n",
    "#但是前提要把有函数的模块运行一下  更新函数也要运行  不然调用的是缓存\n",
    "greet()\n"
   ]
  },
  {
   "cell_type": "code",
   "execution_count": 7,
   "metadata": {},
   "outputs": [],
   "source": [
    "def hhhhh():\n",
    "    print(666)"
   ]
  },
  {
   "cell_type": "code",
   "execution_count": 8,
   "metadata": {},
   "outputs": [
    {
     "output_type": "stream",
     "name": "stdout",
     "text": [
      "666\n"
     ]
    }
   ],
   "source": [
    "hhhhh()"
   ]
  },
  {
   "cell_type": "code",
   "execution_count": null,
   "metadata": {},
   "outputs": [],
   "source": []
  }
 ]
}