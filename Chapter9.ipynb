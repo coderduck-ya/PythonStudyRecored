{
 "metadata": {
  "orig_nbformat": 2,
  "kernelspec": {
   "name": "tf",
   "display_name": "TF",
   "language": "python"
  },
  "metadata": {
   "interpreter": {
    "hash": "7771958e10e1fcf60af0daba8f3f79e0252fd202ce3f4a75b7722ab8a9d3a74f"
   }
  }
 },
 "nbformat": 4,
 "nbformat_minor": 2,
 "cells": [
  {
   "cell_type": "code",
   "execution_count": null,
   "metadata": {},
   "outputs": [],
   "source": [
    "#创建类\n",
    "class Dog():\n",
    "    #构造方法  self必须在第一个位置 不用传参\n",
    "    #只能有一个构造方法\n",
    "    def __init__(self,name,age):\n",
    "        self.name=name\n",
    "        self.age=age\n",
    "        #默认参数\n",
    "        self.color='black'\n",
    "    #方法内必须传递self作为参数\n",
    "    def bark(self,title='哈哈哈'):\n",
    "        print(f\"title : {title}\")\n",
    "    def introduce(self):\n",
    "        print(\"age : \"+str(self.age))\n",
    "        print(\"color : \"+str(self.color))\n",
    "    def updateAge(self,newAge):\n",
    "        self.age=newAge"
   ]
  },
  {
   "cell_type": "code",
   "execution_count": null,
   "metadata": {},
   "outputs": [],
   "source": [
    "myDog=Dog(\"韩茂荧\",2)\n",
    "myDog.bark()\n",
    "myDog.updateAge(20)\n",
    "myDog.bark(title='我是狗')\n",
    "myDog.introduce()"
   ]
  },
  {
   "cell_type": "code",
   "execution_count": null,
   "metadata": {},
   "outputs": [],
   "source": [
    "\n",
    "#类里的属性是实例\n",
    "class DogHead():\n",
    "    def __init__(self,node='大鼻子'):\n",
    "        self.node=node\n",
    "    def showHead(self):\n",
    "        print(f\"我有一个 {self.node}\")\n",
    "#继承\n",
    "class SmallDog(Dog):\n",
    "    def __init__(self,name,age,size,head=DogHead()):\n",
    "        super().__init__(name,age)\n",
    "        self.size=size\n",
    "        self.head=head\n",
    "    def showInformation(self):\n",
    "        print(f\"name : {self.name}\")\n",
    "        print(f\"age : {self.age}\")\n",
    "        print(f\"size : {self.size}\")\n",
    "        print(f\"head : {self.head.showHead()}\")\n",
    "    #重写父类方法\n",
    "    def updateAge(self,newAge):\n",
    "        print(\"新年龄是\"+str(newAge)+\" 就不赋值\")\n",
    "\n"
   ]
  },
  {
   "cell_type": "code",
   "execution_count": null,
   "metadata": {},
   "outputs": [],
   "source": [
    "smallDog=SmallDog('韩茂荧',2,160)\n",
    "smallDog.showInformation()\n",
    "smallDog.bark()\n",
    "smallDog.updateAge(85)"
   ]
  },
  {
   "cell_type": "code",
   "execution_count": 6,
   "metadata": {},
   "outputs": [
    {
     "output_type": "stream",
     "name": "stdout",
     "text": [
      "Deque: deque(['a', 'b', 'c', 'd', 'e', 'f', 'g'])\n",
      "Length: 7\n",
      "Left end: a\n",
      "Right end: g\n",
      "remove(c): deque(['a', 'b', 'd', 'e', 'f', 'g'])\n",
      "extend    : deque(['a', 'b', 'c', 'd', 'e', 'f', 'g'])\n",
      "append    : deque(['a', 'b', 'c', 'd', 'e', 'f', 'g', 'h'])\n",
      "extendleft: deque([5, 4, 3, 2, 1, 0])\n",
      "appendleft: deque([6, 5, 4, 3, 2, 1, 0])\n",
      "From the right:\n",
      "gfedcba\n",
      "\n",
      "From the left:\n",
      "012345\n",
      "    Left: 0\n",
      "   Right: 4\n",
      "    Left: 1\n",
      "   Right: 3\n",
      "    Left: 2\n",
      "   Right done\n",
      "    Left done\n"
     ]
    }
   ],
   "source": [
    "#导入类模块同导入函数一样\n",
    "#python标准库\n",
    "#https://pymotw.com/3/index.html\n",
    "#双向队列\n",
    "import collections\n",
    "import threading\n",
    "import time\n",
    "# Create deque\n",
    "d = collections.deque('abcdefg')\n",
    "print('Deque:', d)\n",
    "print('Length:', len(d))\n",
    "print('Left end:', d[0])\n",
    "print('Right end:', d[-1])\n",
    "d.remove('c')\n",
    "print('remove(c):', d)\n",
    "\n",
    "# Add to the right\n",
    "d1 = collections.deque()\n",
    "d1.extend('abcdefg')\n",
    "print('extend    :', d1)\n",
    "d1.append('h')\n",
    "print('append    :', d1)\n",
    "\n",
    "# Add to the left\n",
    "d2 = collections.deque()\n",
    "d2.extendleft(range(6))\n",
    "print('extendleft:', d2)\n",
    "d2.appendleft(6)\n",
    "print('appendleft:', d2)\n",
    "\n",
    "#Pop from the right\n",
    "print('From the right:')\n",
    "d = collections.deque('abcdefg')\n",
    "while True:\n",
    "    try:\n",
    "        print(d.pop(), end='')\n",
    "    except IndexError:\n",
    "        break\n",
    "print()\n",
    "#Pop from the left\n",
    "print('\\nFrom the left:')\n",
    "d = collections.deque(range(6))\n",
    "while True:\n",
    "    try:\n",
    "        print(d.popleft(), end='')\n",
    "    except IndexError:\n",
    "        break\n",
    "print()\n",
    "#多线程处理\n",
    "candle = collections.deque(range(5))\n",
    "\n",
    "\n",
    "def burn(direction, nextSource):\n",
    "    while True:\n",
    "        try:\n",
    "            next = nextSource()\n",
    "        except IndexError:\n",
    "            break\n",
    "        else:\n",
    "            print('{:>8}: {}'.format(direction, next))\n",
    "            time.sleep(0.1)\n",
    "    print('{:>8} done'.format(direction))\n",
    "    return\n",
    "\n",
    "\n",
    "left = threading.Thread(target=burn,\n",
    "                        args=('Left', candle.popleft))\n",
    "right = threading.Thread(target=burn,\n",
    "                         args=('Right', candle.pop))\n",
    "\n",
    "left.start()\n",
    "right.start()\n",
    "\n",
    "left.join()\n",
    "right.join()"
   ]
  },
  {
   "cell_type": "code",
   "execution_count": null,
   "metadata": {},
   "outputs": [],
   "source": []
  },
  {
   "cell_type": "code",
   "execution_count": null,
   "metadata": {},
   "outputs": [],
   "source": []
  },
  {
   "cell_type": "code",
   "execution_count": null,
   "metadata": {},
   "outputs": [],
   "source": []
  },
  {
   "cell_type": "code",
   "execution_count": null,
   "metadata": {},
   "outputs": [],
   "source": []
  },
  {
   "cell_type": "code",
   "execution_count": null,
   "metadata": {},
   "outputs": [],
   "source": []
  }
 ]
}