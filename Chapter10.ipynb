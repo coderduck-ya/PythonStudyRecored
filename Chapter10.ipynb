{
 "metadata": {
  "orig_nbformat": 2,
  "kernelspec": {
   "name": "tf",
   "display_name": "TF",
   "language": "python"
  },
  "metadata": {
   "interpreter": {
    "hash": "7771958e10e1fcf60af0daba8f3f79e0252fd202ce3f4a75b7722ab8a9d3a74f"
   }
  }
 },
 "nbformat": 4,
 "nbformat_minor": 2,
 "cells": [
  {
   "cell_type": "code",
   "execution_count": null,
   "metadata": {},
   "outputs": [],
   "source": [
    "#用with不需要手动关闭文件\n",
    "#文件路径用\\或者//\n",
    "with open('Chapter10File.txt') as file_object:\n",
    "    content=file_object.read()\n",
    "    print(content.strip())\n",
    "    print(file_object.writable())\n",
    "    \n",
    "   \n"
   ]
  },
  {
   "cell_type": "code",
   "execution_count": null,
   "metadata": {},
   "outputs": [],
   "source": [
    "#不用with打开\n",
    "file_object=open('Chapter10File.txt')\n",
    "lines=file_object.readlines()#读完file_object就空了\n",
    "print(lines)\n",
    "# for line in file_object:\n",
    "contentString=''\n",
    "for line in lines:\n",
    "    contentString+=line.strip()\n",
    "print('3.14' in contentString)\n",
    "\n",
    "file_object.close()"
   ]
  },
  {
   "cell_type": "code",
   "execution_count": null,
   "metadata": {},
   "outputs": [],
   "source": [
    "#写入文件\n",
    "# 'r'--只读 'w'--覆盖写 'a'--追加写 'r+'--读取和写入\n",
    "#如果文件不存在会创建一个文件\n",
    "with open('Chapter10File.txt','w') as file_object:\n",
    "    file_object.write('什么都没有了\\n')\n",
    "    file_object.write('line 2\\n')\n",
    "\n",
    "try:\n",
    "    with open('Chapter10File.txt','a') as file_object:\n",
    "        file_object.write('追加\\n')\n",
    "        print(file_object.name)\n",
    "except FileNotFoundError:\n",
    "    print('文件不存在')\n"
   ]
  },
  {
   "cell_type": "code",
   "execution_count": null,
   "metadata": {},
   "outputs": [],
   "source": [
    "#异常\n",
    "try:\n",
    "    print(5/0)\n",
    "except ZeroDivisionError:#抛出一致的错误\n",
    "    print('出错啦')\n",
    "else:#try中执行完不出错才会执行else\n",
    "    print('没有出错')\n",
    "#抛完异常继续执行\n",
    "print('try-except执行完啦')"
   ]
  }
 ]
}