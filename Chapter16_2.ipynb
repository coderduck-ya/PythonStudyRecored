{
 "metadata": {
  "language_info": {
   "codemirror_mode": {
    "name": "ipython",
    "version": 3
   },
   "file_extension": ".py",
   "mimetype": "text/x-python",
   "name": "python",
   "nbconvert_exporter": "python",
   "pygments_lexer": "ipython3",
   "version": "3.8.6"
  },
  "orig_nbformat": 2,
  "kernelspec": {
   "name": "tf",
   "display_name": "Python 3.8.6 64-bit"
  }
 },
 "nbformat": 4,
 "nbformat_minor": 2,
 "cells": [
  {
   "cell_type": "code",
   "execution_count": 2,
   "metadata": {},
   "outputs": [],
   "source": [
    "from pygal_maps_world.i18n import COUNTRIES\n",
    "def get_country_code(country_name):\n",
    "    for code,name in COUNTRIES.items():\n",
    "        if name == country_name:\n",
    "            return code\n",
    "    \n",
    "    return None"
   ]
  },
  {
   "cell_type": "code",
   "execution_count": null,
   "metadata": {},
   "outputs": [],
   "source": [
    "import json\n",
    "filename='population_data.json'\n",
    "with open(filename) as file:\n",
    "    pop_data=json.load(file)\n",
    "\n",
    "for pop_dict in pop_data:\n",
    "    if(pop_dict['Year']=='2010'):\n",
    "        country_name=pop_dict['Country Name']\n",
    "        population=pop_dict['Value']\n",
    "        print(country_name+\" \"+population)"
   ]
  },
  {
   "cell_type": "code",
   "execution_count": null,
   "metadata": {},
   "outputs": [],
   "source": []
  }
 ]
}