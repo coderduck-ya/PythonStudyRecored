{
 "metadata": {
  "orig_nbformat": 2,
  "kernelspec": {
   "name": "tf",
   "display_name": "TF",
   "language": "python"
  }
 },
 "nbformat": 4,
 "nbformat_minor": 2,
 "cells": [
  {
   "cell_type": "code",
   "execution_count": null,
   "metadata": {},
   "outputs": [],
   "source": [
    "#单元测试\n",
    "import unittest\n",
    "'''\n",
    "self.assertEqual\n",
    "self.assertNotEqual\n",
    "self.assertTrue\n",
    "self.assertFalse\n",
    "self.assertIn\n",
    "self.assertNotIn\n",
    "'''\n",
    "def get1Num():\n",
    "    return 'hello'\n",
    "\n",
    "class NumTestCase(unittest.TestCase):\n",
    "    def test_right(self):\n",
    "        target=get1Num()\n",
    "        self.assertEqual(target,'hello')\n",
    "\n",
    "    def test_wrong(self):\n",
    "        target=get1Num()\n",
    "        self.assertEqual(target,'world')\n",
    "      \n",
    "\n",
    "unittest.main(argv=['first-arg-is-ignored'],exit=False)"
   ]
  },
  {
   "cell_type": "code",
   "execution_count": 1,
   "metadata": {},
   "outputs": [
    {
     "output_type": "stream",
     "name": "stderr",
     "text": [
      ".\n",
      "----------------------------------------------------------------------\n",
      "Ran 1 test in 0.002s\n",
      "\n",
      "OK\n"
     ]
    },
    {
     "output_type": "execute_result",
     "data": {
      "text/plain": [
       "<unittest.main.TestProgram at 0x1e70c443b50>"
      ]
     },
     "metadata": {},
     "execution_count": 1
    }
   ],
   "source": [
    "#测试类\n",
    "import unittest\n",
    "class Survey():\n",
    "    def __init__(self,question):\n",
    "        self.question=question\n",
    "        self.response=[]\n",
    "    def show_question(self):\n",
    "        print(self.question)\n",
    "    def store_response(self,new_response):\n",
    "        self.response.append(new_response)\n",
    "    def show_resule(self):\n",
    "        for item in self.response:\n",
    "            prnt(\"quesion resules:\")\n",
    "            print('-'+item)\n",
    "\n",
    "class surveyTest(unittest.TestCase):\n",
    "    def setUp(self):\n",
    "        quesion='你是傻逼吗?'\n",
    "        self.my_survey=Survey(quesion)\n",
    "        self.response=['yes','no','gun']\n",
    "    def test_list_respone(self):\n",
    "        for item in self.response:\n",
    "            self.my_survey.store_response(item)\n",
    "        for item in self.response:\n",
    "            self.assertIn(item,self.my_survey.response)\n",
    "\n",
    "            \n",
    "unittest.main(argv=['first-arg-is-ignored'],exit=False)"
   ]
  },
  {
   "cell_type": "code",
   "execution_count": null,
   "metadata": {},
   "outputs": [],
   "source": []
  }
 ]
}