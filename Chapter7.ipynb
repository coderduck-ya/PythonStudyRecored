{
 "metadata": {
  "language_info": {
   "codemirror_mode": {
    "name": "ipython",
    "version": 3
   },
   "file_extension": ".py",
   "mimetype": "text/x-python",
   "name": "python",
   "nbconvert_exporter": "python",
   "pygments_lexer": "ipython3",
   "version": "3.8.6"
  },
  "orig_nbformat": 2,
  "kernelspec": {
   "name": "python386jvsc74a57bd02f464fc6b098c045d3fa2a81389409b13ae3524050d1c22ae6b1fc19c12f7a78",
   "display_name": "Python 3.8.6 64-bit"
  },
  "metadata": {
   "interpreter": {
    "hash": "2f464fc6b098c045d3fa2a81389409b13ae3524050d1c22ae6b1fc19c12f7a78"
   }
  }
 },
 "nbformat": 4,
 "nbformat_minor": 2,
 "cells": [
  {
   "cell_type": "code",
   "execution_count": null,
   "metadata": {},
   "outputs": [],
   "source": [
    "#读取输入\n",
    "message=input(\"input something\")\n",
    "print(message)\n",
    "num=input(\"input a number\")\n",
    "num=int(num)\n",
    "print(num)"
   ]
  },
  {
   "cell_type": "code",
   "execution_count": 4,
   "metadata": {},
   "outputs": [
    {
     "output_type": "stream",
     "name": "stdout",
     "text": [
      "6\n5\n4\n3\n3\n2\n1\nNone\nNone\n"
     ]
    }
   ],
   "source": [
    "#while循环\n",
    "number=1\n",
    "while number<5:\n",
    "    #print(number)\n",
    "    number+=1\n",
    "    #break \n",
    "    #continue \n",
    "\n",
    "#处理字典和列表\n",
    "List=[1,2,3,3,4,5,6]\n",
    "while List:\n",
    "    print(List.pop())\n",
    "List=[1,2,3,3,4,5,6]\n",
    "while 3 in List:\n",
    "    print(List.remove(3))\n"
   ]
  },
  {
   "cell_type": "code",
   "execution_count": null,
   "metadata": {},
   "outputs": [],
   "source": []
  }
 ]
}